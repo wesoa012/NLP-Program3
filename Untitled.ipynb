{
 "cells": [
  {
   "cell_type": "code",
   "execution_count": 33,
   "metadata": {},
   "outputs": [
    {
     "name": "stdout",
     "output_type": "stream",
     "text": [
      "not for this program\n",
      "Extra File Detected...skipping it\n"
     ]
    }
   ],
   "source": [
    "from os import listdir\n",
    "def dataAdder():\n",
    "    for file in listdir('./Data/adds'):\n",
    "        if(\"Conviction\" in file):\n",
    "            AddToFile = open(\"./Data/txts/Conviction.txt\", \"a\")\n",
    "        elif(\"Thorn\" in file):\n",
    "            AddToFile = open(\"./Data/txts/Thorn.txt\", \"a\")\n",
    "        elif(\"Rubbish\" in file):\n",
    "            AddToFile = open(\"./Data/txts/Rubbish.txt\", \"a\")\n",
    "        else:\n",
    "            print(\"not for this program\")\n",
    "        \n",
    "        ReadFromFile = open(\"./Data/adds/\"+file, \"r\")\n",
    "        if(\"1.txt\" in file):\n",
    "            sense = \"1\"\n",
    "        elif(\"2.txt\" in file):\n",
    "            sense = \"2\"\n",
    "        else:\n",
    "            print(\"Extra File Detected...skipping it\")\n",
    "            continue\n",
    "        AddToFile.write('\\n')\n",
    "        for line in ReadFromFile.readlines():\n",
    "            AddToFile.write(sense + \" \" + line)\n",
    "        \n",
    "    \n",
    "    \n",
    "def dataToCSVs():\n",
    "    for file in listdir('./Data/txts'):\n",
    "        csv = open(\"./Data/csvs/\" + file[0:-4] + \".csv\", \"w\")\n",
    "        txt = open(\"./Data/txts/\" + file, \"r\")\n",
    "        \n",
    "        for line in txt.readlines():\n",
    "            line = line.replace('\"',\"'\")\n",
    "            csv.write(line[0] + ',\"' + line[2:-1] + '\"' + '\\n')\n",
    "    \n",
    "dataAdder()\n",
    "dataToCSVs()"
   ]
  },
  {
   "cell_type": "code",
   "execution_count": null,
   "metadata": {},
   "outputs": [],
   "source": [
    "def WSD_Test_Rubbish(sentences):\n",
    "\n",
    "    encodings = TOKENIZER(sentences, truncation=True, padding=True)\n",
    "    output.write(prediction)\n"
   ]
  }
 ],
 "metadata": {
  "kernelspec": {
   "display_name": "Python 3",
   "language": "python",
   "name": "python3"
  },
  "language_info": {
   "codemirror_mode": {
    "name": "ipython",
    "version": 3
   },
   "file_extension": ".py",
   "mimetype": "text/x-python",
   "name": "python",
   "nbconvert_exporter": "python",
   "pygments_lexer": "ipython3",
   "version": "3.8.5"
  }
 },
 "nbformat": 4,
 "nbformat_minor": 4
}
