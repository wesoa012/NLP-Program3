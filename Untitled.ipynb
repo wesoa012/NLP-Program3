{
 "cells": [
  {
   "cell_type": "code",
   "execution_count": 21,
   "metadata": {},
   "outputs": [
    {
     "name": "stdout",
     "output_type": "stream",
     "text": [
      "=======================\n",
      "Starting adding process\n",
      "=======================\n",
      "not for this program\n",
      "Extra File Detected...skipping it\n",
      "\n",
      "=======================\n",
      "Finished adding process\n",
      "=======================\n",
      "\n",
      "===========================\n",
      "Starting conversion to csvs\n",
      "===========================\n",
      "\n",
      "Converting Rubbish.txt to csv start\n",
      "Finished converting Rubbish.txt\n",
      "\n",
      "Converting Conviction.txt to csv start\n",
      "Finished converting Conviction.txt\n",
      "\n",
      "Converting Thorn.txt to csv start\n",
      "Finished converting Thorn.txt\n",
      "===========================\n",
      "Finished conversion process\n",
      "===========================\n"
     ]
    }
   ],
   "source": [
    "from os import listdir\n",
    "def dataAdder():\n",
    "    print(\"=======================\\nStarting adding process\\n=======================\")\n",
    "\n",
    "    for file in listdir('./Data/adds'):\n",
    "        if(\"Conviction\" in file):\n",
    "            AddToFile = open(\"./Data/txts/Conviction.txt\", \"a\")\n",
    "        elif(\"Thorn\" in file):\n",
    "            AddToFile = open(\"./Data/txts/Thorn.txt\", \"a\")\n",
    "        elif(\"Rubbish\" in file):\n",
    "            AddToFile = open(\"./Data/txts/Rubbish.txt\", \"a\")\n",
    "        else:\n",
    "            print(\"not for this program\")\n",
    "        \n",
    "        ReadFromFile = open(\"./Data/adds/\"+file, \"r\")\n",
    "        if(\"1.txt\" in file):\n",
    "            sense = \"1\"\n",
    "        elif(\"2.txt\" in file):\n",
    "            sense = \"2\"\n",
    "        else:\n",
    "            print(\"Extra File Detected...skipping it\")\n",
    "            continue\n",
    "        AddToFile.write('\\n')\n",
    "        for line in ReadFromFile.readlines():\n",
    "            AddToFile.write(sense + \" \" + line)\n",
    "    print(\"\\n=======================\\nFinished adding process\\n=======================\")\n",
    "        \n",
    "    \n",
    "    \n",
    "def dataToCSVs():\n",
    "    print(\"\\n===========================\\nStarting conversion to csvs\\n===========================\")\n",
    "    for file in listdir('./Data/txts'):\n",
    "        if('.txt' not in file):\n",
    "            continue\n",
    "        csv = open(\"./Data/csvs/\" + file[0:-4] + \".csv\", \"w\")\n",
    "        txt = open(\"./Data/txts/\" + file, \"r\")\n",
    "        print(\"\\nConverting \" + file + \" to csv start\")\n",
    "        for line in txt.readlines():\n",
    "            line = line.replace('\"',\"'\")\n",
    "            csv.write(str(int(line[0]) - 1) + ',\"' + line[2:-1] + '\"' + '\\n')\n",
    "        print(\"Finished converting \" + file)\n",
    "    print(\"===========================\\nFinished conversion process\\n===========================\")\n",
    "\n",
    "    \n",
    "dataAdder()\n",
    "dataToCSVs()"
   ]
  },
  {
   "cell_type": "code",
   "execution_count": 2,
   "metadata": {},
   "outputs": [],
   "source": [
    "def WSD_Test_Rubbish(sentences):\n",
    "    output = open(\"./rubbish_outputs.txt\", \"w\")\n",
    "    \n",
    "    encodings = TOKENIZER(sentences, truncation=True, padding=True)\n",
    "    \n",
    "    for encoding in encodings:\n",
    "        output.write(str(encoding + 1) + \"\\n\")\n",
    "        \n",
    "def WSD_Test_Thorn(sentences):\n",
    "    output = open(\"./thorn_outputs.txt\", \"w\")\n",
    "    \n",
    "    encodings = TOKENIZER(sentences, truncation=True, padding=True)\n",
    "    \n",
    "    for encoding in encodings:\n",
    "        output.write(str(encoding + 1) + \"\\n\")\n",
    "        \n",
    "def WSD_Test_Conviction(sentences):\n",
    "    output = open(\"./conviction_outputs.txt\", \"w\")\n",
    "    \n",
    "    encodings = TOKENIZER(sentences, truncation=True, padding=True)\n",
    "    \n",
    "    for encoding in encodings:\n",
    "        output.write(str(encoding + 1) + \"\\n\")\n"
   ]
  },
  {
   "cell_type": "code",
   "execution_count": null,
   "metadata": {},
   "outputs": [],
   "source": []
  }
 ],
 "metadata": {
  "kernelspec": {
   "display_name": "Python 3",
   "language": "python",
   "name": "python3"
  },
  "language_info": {
   "codemirror_mode": {
    "name": "ipython",
    "version": 3
   },
   "file_extension": ".py",
   "mimetype": "text/x-python",
   "name": "python",
   "nbconvert_exporter": "python",
   "pygments_lexer": "ipython3",
   "version": "3.8.5"
  }
 },
 "nbformat": 4,
 "nbformat_minor": 4
}
